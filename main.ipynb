{
 "cells": [
  {
   "cell_type": "markdown",
   "id": "3d6560f5-b4c8-4e05-9705-6b01834e043c",
   "metadata": {},
   "source": [
    "## Importing Libraries"
   ]
  },
  {
   "cell_type": "code",
   "execution_count": 1,
   "id": "6caf46cd-82de-41c1-bd26-a438ca3376f5",
   "metadata": {},
   "outputs": [],
   "source": [
    "import pandas as pd\n",
    "import matplotlib.pyplot as plt\n",
    "import seaborn as sns\n",
    "from sklearn.linear_model import LinearRegression\n",
    "from sklearn.metrics import r2_score\n",
    "from sklearn.ensemble import RandomForestRegressor\n",
    "from sklearn.model_selection import train_test_split"
   ]
  },
  {
   "cell_type": "markdown",
   "id": "ce32b4ca-3ffd-4223-8f5a-2ec8009e636e",
   "metadata": {},
   "source": [
    "## EDA"
   ]
  },
  {
   "cell_type": "code",
   "execution_count": 2,
   "id": "102e867d-63e8-4fdb-8430-d46f26905eeb",
   "metadata": {},
   "outputs": [
    {
     "data": {
      "text/html": [
       "<div>\n",
       "<style scoped>\n",
       "    .dataframe tbody tr th:only-of-type {\n",
       "        vertical-align: middle;\n",
       "    }\n",
       "\n",
       "    .dataframe tbody tr th {\n",
       "        vertical-align: top;\n",
       "    }\n",
       "\n",
       "    .dataframe thead th {\n",
       "        text-align: right;\n",
       "    }\n",
       "</style>\n",
       "<table border=\"1\" class=\"dataframe\">\n",
       "  <thead>\n",
       "    <tr style=\"text-align: right;\">\n",
       "      <th></th>\n",
       "      <th>Date</th>\n",
       "      <th>Open</th>\n",
       "      <th>High</th>\n",
       "      <th>Low</th>\n",
       "      <th>Close</th>\n",
       "      <th>Adj Close</th>\n",
       "      <th>Volume</th>\n",
       "    </tr>\n",
       "  </thead>\n",
       "  <tbody>\n",
       "    <tr>\n",
       "      <th>0</th>\n",
       "      <td>1/3/2000</td>\n",
       "      <td>22.791668</td>\n",
       "      <td>23.000000</td>\n",
       "      <td>21.833332</td>\n",
       "      <td>22.270832</td>\n",
       "      <td>14.469358</td>\n",
       "      <td>25109700</td>\n",
       "    </tr>\n",
       "    <tr>\n",
       "      <th>1</th>\n",
       "      <td>1/4/2000</td>\n",
       "      <td>21.833332</td>\n",
       "      <td>21.937500</td>\n",
       "      <td>21.395832</td>\n",
       "      <td>21.437500</td>\n",
       "      <td>13.927947</td>\n",
       "      <td>20235300</td>\n",
       "    </tr>\n",
       "    <tr>\n",
       "      <th>2</th>\n",
       "      <td>1/5/2000</td>\n",
       "      <td>21.291668</td>\n",
       "      <td>21.458332</td>\n",
       "      <td>20.729168</td>\n",
       "      <td>21.000000</td>\n",
       "      <td>13.643703</td>\n",
       "      <td>21056100</td>\n",
       "    </tr>\n",
       "    <tr>\n",
       "      <th>3</th>\n",
       "      <td>1/6/2000</td>\n",
       "      <td>21.000000</td>\n",
       "      <td>21.520832</td>\n",
       "      <td>20.895832</td>\n",
       "      <td>21.229168</td>\n",
       "      <td>13.792585</td>\n",
       "      <td>19633500</td>\n",
       "    </tr>\n",
       "    <tr>\n",
       "      <th>4</th>\n",
       "      <td>1/7/2000</td>\n",
       "      <td>21.500000</td>\n",
       "      <td>22.979168</td>\n",
       "      <td>21.500000</td>\n",
       "      <td>22.833332</td>\n",
       "      <td>14.834813</td>\n",
       "      <td>23930700</td>\n",
       "    </tr>\n",
       "    <tr>\n",
       "      <th>5</th>\n",
       "      <td>1/10/2000</td>\n",
       "      <td>22.416668</td>\n",
       "      <td>22.500000</td>\n",
       "      <td>21.875000</td>\n",
       "      <td>22.416668</td>\n",
       "      <td>14.564112</td>\n",
       "      <td>20142900</td>\n",
       "    </tr>\n",
       "    <tr>\n",
       "      <th>6</th>\n",
       "      <td>1/11/2000</td>\n",
       "      <td>22.354168</td>\n",
       "      <td>22.583332</td>\n",
       "      <td>21.875000</td>\n",
       "      <td>22.083332</td>\n",
       "      <td>14.347544</td>\n",
       "      <td>14829900</td>\n",
       "    </tr>\n",
       "    <tr>\n",
       "      <th>7</th>\n",
       "      <td>1/12/2000</td>\n",
       "      <td>22.062500</td>\n",
       "      <td>22.250000</td>\n",
       "      <td>21.687500</td>\n",
       "      <td>21.687500</td>\n",
       "      <td>14.090372</td>\n",
       "      <td>12255000</td>\n",
       "    </tr>\n",
       "    <tr>\n",
       "      <th>8</th>\n",
       "      <td>1/13/2000</td>\n",
       "      <td>22.000000</td>\n",
       "      <td>22.041668</td>\n",
       "      <td>21.666668</td>\n",
       "      <td>21.708332</td>\n",
       "      <td>14.103909</td>\n",
       "      <td>15063000</td>\n",
       "    </tr>\n",
       "    <tr>\n",
       "      <th>9</th>\n",
       "      <td>1/14/2000</td>\n",
       "      <td>21.333332</td>\n",
       "      <td>21.979168</td>\n",
       "      <td>21.333332</td>\n",
       "      <td>21.500000</td>\n",
       "      <td>13.968553</td>\n",
       "      <td>18936600</td>\n",
       "    </tr>\n",
       "  </tbody>\n",
       "</table>\n",
       "</div>"
      ],
      "text/plain": [
       "        Date       Open       High        Low      Close  Adj Close    Volume\n",
       "0   1/3/2000  22.791668  23.000000  21.833332  22.270832  14.469358  25109700\n",
       "1   1/4/2000  21.833332  21.937500  21.395832  21.437500  13.927947  20235300\n",
       "2   1/5/2000  21.291668  21.458332  20.729168  21.000000  13.643703  21056100\n",
       "3   1/6/2000  21.000000  21.520832  20.895832  21.229168  13.792585  19633500\n",
       "4   1/7/2000  21.500000  22.979168  21.500000  22.833332  14.834813  23930700\n",
       "5  1/10/2000  22.416668  22.500000  21.875000  22.416668  14.564112  20142900\n",
       "6  1/11/2000  22.354168  22.583332  21.875000  22.083332  14.347544  14829900\n",
       "7  1/12/2000  22.062500  22.250000  21.687500  21.687500  14.090372  12255000\n",
       "8  1/13/2000  22.000000  22.041668  21.666668  21.708332  14.103909  15063000\n",
       "9  1/14/2000  21.333332  21.979168  21.333332  21.500000  13.968553  18936600"
      ]
     },
     "execution_count": 2,
     "metadata": {},
     "output_type": "execute_result"
    }
   ],
   "source": [
    "df = pd.read_csv(\"WMT.csv\")\n",
    "df.head(10)"
   ]
  },
  {
   "cell_type": "code",
   "execution_count": 3,
   "id": "847d0bde-ee46-4925-9de2-6bd19a5c520c",
   "metadata": {},
   "outputs": [
    {
     "name": "stdout",
     "output_type": "stream",
     "text": [
      "<class 'pandas.core.frame.DataFrame'>\n",
      "RangeIndex: 6118 entries, 0 to 6117\n",
      "Data columns (total 7 columns):\n",
      " #   Column     Non-Null Count  Dtype  \n",
      "---  ------     --------------  -----  \n",
      " 0   Date       6118 non-null   object \n",
      " 1   Open       6118 non-null   float64\n",
      " 2   High       6118 non-null   float64\n",
      " 3   Low        6118 non-null   float64\n",
      " 4   Close      6118 non-null   float64\n",
      " 5   Adj Close  6118 non-null   float64\n",
      " 6   Volume     6118 non-null   int64  \n",
      "dtypes: float64(5), int64(1), object(1)\n",
      "memory usage: 334.7+ KB\n"
     ]
    }
   ],
   "source": [
    "df.info()"
   ]
  },
  {
   "cell_type": "code",
   "execution_count": 4,
   "id": "c1ec7115-a779-4844-a99a-5d6fab8f48ec",
   "metadata": {},
   "outputs": [],
   "source": [
    "df['Date'] = pd.to_datetime(df['Date'])"
   ]
  },
  {
   "cell_type": "code",
   "execution_count": 5,
   "id": "ae95212a-c409-4fea-b90b-11a7448e4fb7",
   "metadata": {},
   "outputs": [
    {
     "name": "stdout",
     "output_type": "stream",
     "text": [
      "<class 'pandas.core.frame.DataFrame'>\n",
      "RangeIndex: 6118 entries, 0 to 6117\n",
      "Data columns (total 7 columns):\n",
      " #   Column     Non-Null Count  Dtype         \n",
      "---  ------     --------------  -----         \n",
      " 0   Date       6118 non-null   datetime64[ns]\n",
      " 1   Open       6118 non-null   float64       \n",
      " 2   High       6118 non-null   float64       \n",
      " 3   Low        6118 non-null   float64       \n",
      " 4   Close      6118 non-null   float64       \n",
      " 5   Adj Close  6118 non-null   float64       \n",
      " 6   Volume     6118 non-null   int64         \n",
      "dtypes: datetime64[ns](1), float64(5), int64(1)\n",
      "memory usage: 334.7 KB\n"
     ]
    }
   ],
   "source": [
    "df.info()"
   ]
  },
  {
   "cell_type": "code",
   "execution_count": 6,
   "id": "77de4e9d-bc2b-4b81-8403-7d0b5f2601c2",
   "metadata": {},
   "outputs": [
    {
     "data": {
      "text/plain": [
       "Date         0\n",
       "Open         0\n",
       "High         0\n",
       "Low          0\n",
       "Close        0\n",
       "Adj Close    0\n",
       "Volume       0\n",
       "dtype: int64"
      ]
     },
     "execution_count": 6,
     "metadata": {},
     "output_type": "execute_result"
    }
   ],
   "source": [
    "df.isna().sum()"
   ]
  },
  {
   "cell_type": "markdown",
   "id": "c58ddcbc-bb92-4d71-b95f-b86ce31168ff",
   "metadata": {},
   "source": [
    "## Filling Missing Rows"
   ]
  },
  {
   "cell_type": "code",
   "execution_count": 7,
   "id": "69b197b0-5318-44b7-8644-31902d49283b",
   "metadata": {},
   "outputs": [
    {
     "data": {
      "text/html": [
       "<div>\n",
       "<style scoped>\n",
       "    .dataframe tbody tr th:only-of-type {\n",
       "        vertical-align: middle;\n",
       "    }\n",
       "\n",
       "    .dataframe tbody tr th {\n",
       "        vertical-align: top;\n",
       "    }\n",
       "\n",
       "    .dataframe thead th {\n",
       "        text-align: right;\n",
       "    }\n",
       "</style>\n",
       "<table border=\"1\" class=\"dataframe\">\n",
       "  <thead>\n",
       "    <tr style=\"text-align: right;\">\n",
       "      <th></th>\n",
       "      <th>Date</th>\n",
       "      <th>Open</th>\n",
       "      <th>High</th>\n",
       "      <th>Low</th>\n",
       "      <th>Close</th>\n",
       "      <th>Adj Close</th>\n",
       "      <th>Volume</th>\n",
       "    </tr>\n",
       "  </thead>\n",
       "  <tbody>\n",
       "    <tr>\n",
       "      <th>0</th>\n",
       "      <td>2000-01-03</td>\n",
       "      <td>22.791668</td>\n",
       "      <td>23.000000</td>\n",
       "      <td>21.833332</td>\n",
       "      <td>22.270832</td>\n",
       "      <td>14.469358</td>\n",
       "      <td>25109700.0</td>\n",
       "    </tr>\n",
       "    <tr>\n",
       "      <th>1</th>\n",
       "      <td>2000-01-04</td>\n",
       "      <td>21.833332</td>\n",
       "      <td>21.937500</td>\n",
       "      <td>21.395832</td>\n",
       "      <td>21.437500</td>\n",
       "      <td>13.927947</td>\n",
       "      <td>20235300.0</td>\n",
       "    </tr>\n",
       "    <tr>\n",
       "      <th>2</th>\n",
       "      <td>2000-01-05</td>\n",
       "      <td>21.291668</td>\n",
       "      <td>21.458332</td>\n",
       "      <td>20.729168</td>\n",
       "      <td>21.000000</td>\n",
       "      <td>13.643703</td>\n",
       "      <td>21056100.0</td>\n",
       "    </tr>\n",
       "    <tr>\n",
       "      <th>3</th>\n",
       "      <td>2000-01-06</td>\n",
       "      <td>21.000000</td>\n",
       "      <td>21.520832</td>\n",
       "      <td>20.895832</td>\n",
       "      <td>21.229168</td>\n",
       "      <td>13.792585</td>\n",
       "      <td>19633500.0</td>\n",
       "    </tr>\n",
       "    <tr>\n",
       "      <th>4</th>\n",
       "      <td>2000-01-07</td>\n",
       "      <td>21.500000</td>\n",
       "      <td>22.979168</td>\n",
       "      <td>21.500000</td>\n",
       "      <td>22.833332</td>\n",
       "      <td>14.834813</td>\n",
       "      <td>23930700.0</td>\n",
       "    </tr>\n",
       "    <tr>\n",
       "      <th>5</th>\n",
       "      <td>2000-01-08</td>\n",
       "      <td>21.805556</td>\n",
       "      <td>22.819445</td>\n",
       "      <td>21.625000</td>\n",
       "      <td>22.694444</td>\n",
       "      <td>14.744579</td>\n",
       "      <td>22668100.0</td>\n",
       "    </tr>\n",
       "    <tr>\n",
       "      <th>6</th>\n",
       "      <td>2000-01-09</td>\n",
       "      <td>22.111112</td>\n",
       "      <td>22.659723</td>\n",
       "      <td>21.750000</td>\n",
       "      <td>22.555556</td>\n",
       "      <td>14.654346</td>\n",
       "      <td>21405500.0</td>\n",
       "    </tr>\n",
       "    <tr>\n",
       "      <th>7</th>\n",
       "      <td>2000-01-10</td>\n",
       "      <td>22.416668</td>\n",
       "      <td>22.500000</td>\n",
       "      <td>21.875000</td>\n",
       "      <td>22.416668</td>\n",
       "      <td>14.564112</td>\n",
       "      <td>20142900.0</td>\n",
       "    </tr>\n",
       "    <tr>\n",
       "      <th>8</th>\n",
       "      <td>2000-01-11</td>\n",
       "      <td>22.354168</td>\n",
       "      <td>22.583332</td>\n",
       "      <td>21.875000</td>\n",
       "      <td>22.083332</td>\n",
       "      <td>14.347544</td>\n",
       "      <td>14829900.0</td>\n",
       "    </tr>\n",
       "    <tr>\n",
       "      <th>9</th>\n",
       "      <td>2000-01-12</td>\n",
       "      <td>22.062500</td>\n",
       "      <td>22.250000</td>\n",
       "      <td>21.687500</td>\n",
       "      <td>21.687500</td>\n",
       "      <td>14.090372</td>\n",
       "      <td>12255000.0</td>\n",
       "    </tr>\n",
       "  </tbody>\n",
       "</table>\n",
       "</div>"
      ],
      "text/plain": [
       "        Date       Open       High        Low      Close  Adj Close  \\\n",
       "0 2000-01-03  22.791668  23.000000  21.833332  22.270832  14.469358   \n",
       "1 2000-01-04  21.833332  21.937500  21.395832  21.437500  13.927947   \n",
       "2 2000-01-05  21.291668  21.458332  20.729168  21.000000  13.643703   \n",
       "3 2000-01-06  21.000000  21.520832  20.895832  21.229168  13.792585   \n",
       "4 2000-01-07  21.500000  22.979168  21.500000  22.833332  14.834813   \n",
       "5 2000-01-08  21.805556  22.819445  21.625000  22.694444  14.744579   \n",
       "6 2000-01-09  22.111112  22.659723  21.750000  22.555556  14.654346   \n",
       "7 2000-01-10  22.416668  22.500000  21.875000  22.416668  14.564112   \n",
       "8 2000-01-11  22.354168  22.583332  21.875000  22.083332  14.347544   \n",
       "9 2000-01-12  22.062500  22.250000  21.687500  21.687500  14.090372   \n",
       "\n",
       "       Volume  \n",
       "0  25109700.0  \n",
       "1  20235300.0  \n",
       "2  21056100.0  \n",
       "3  19633500.0  \n",
       "4  23930700.0  \n",
       "5  22668100.0  \n",
       "6  21405500.0  \n",
       "7  20142900.0  \n",
       "8  14829900.0  \n",
       "9  12255000.0  "
      ]
     },
     "execution_count": 7,
     "metadata": {},
     "output_type": "execute_result"
    }
   ],
   "source": [
    "df.set_index('Date', inplace = True, drop = True)\n",
    "df = df.resample('D').interpolate(method = 'time')\n",
    "df.reset_index(inplace = True)\n",
    "df.head(10)"
   ]
  },
  {
   "cell_type": "markdown",
   "id": "ad212214-aabe-42bf-8491-88e9228cf040",
   "metadata": {},
   "source": [
    "## Plotting Graphs"
   ]
  },
  {
   "cell_type": "code",
   "execution_count": 8,
   "id": "193cc73f-6cc6-4d79-8137-67a0ad6cada8",
   "metadata": {},
   "outputs": [
    {
     "data": {
      "image/png": "[encoded data removed]",
      "text/plain": [
       "<Figure size 1200x600 with 1 Axes>"
      ]
     },
     "metadata": {},
     "output_type": "display_data"
    }
   ],
   "source": [
    "plt.figure(figsize=(12, 6))\n",
    "plt.plot(df['Date'], df['Close'], color='blue')\n",
    "plt.title('Walmart Stock Prices Over Time')\n",
    "plt.xlabel('Date')\n",
    "plt.ylabel('Closing Price')\n",
    "plt.grid(True)\n",
    "plt.show()"
   ]
  },
  {
   "cell_type": "code",
   "execution_count": 9,
   "id": "6e79f30d-046b-4a69-bf68-38ad8a37d006",
   "metadata": {},
   "outputs": [
    {
     "data": {
      "image/png": "[encoded data removed]",
      "text/plain": [
       "<Figure size 1200x600 with 2 Axes>"
      ]
     },
     "metadata": {},
     "output_type": "display_data"
    }
   ],
   "source": [
    "numeric_df = df.drop(columns = 'Date')\n",
    "plt.figure(figsize=(12, 6))\n",
    "sns.heatmap(numeric_df.corr(), annot=True, cmap=\"inferno\")\n",
    "plt.title('Correlation btw columns')\n",
    "plt.tight_layout()\n",
    "plt.show()"
   ]
  },
  {
   "cell_type": "markdown",
   "id": "d2a3b3f9-b93b-4d35-80f3-430218500731",
   "metadata": {},
   "source": [
    "## Trying Models"
   ]
  },
  {
   "cell_type": "code",
   "execution_count": 10,
   "id": "2e3ff6c4-dd7a-4ce4-a049-ff96cfbdd3e7",
   "metadata": {},
   "outputs": [],
   "source": [
    "X = df.drop(columns = ['Date', 'Close'])\n",
    "y = df['Close']"
   ]
  },
  {
   "cell_type": "code",
   "execution_count": 11,
   "id": "cbae09fe-e025-4433-b178-d21445ff53a4",
   "metadata": {},
   "outputs": [],
   "source": [
    "X_train, X_test, y_train, y_test = train_test_split(X, y, test_size=0.2, random_state=42)"
   ]
  },
  {
   "cell_type": "markdown",
   "id": "4b38f646-68c8-4710-9bf1-283a9aeab070",
   "metadata": {},
   "source": [
    "### Linear Regression"
   ]
  },
  {
   "cell_type": "code",
   "execution_count": 12,
   "id": "a7d3a78c-9c3f-49ae-a690-072d1dde70ec",
   "metadata": {},
   "outputs": [],
   "source": [
    "model_lr = LinearRegression()\n",
    "model_lr.fit(X_train, y_train)\n",
    "y_pred_lr = model_lr.predict(X_test)"
   ]
  },
  {
   "cell_type": "code",
   "execution_count": 13,
   "id": "75517d0c-3d44-4a82-9a3c-6c005e901f23",
   "metadata": {},
   "outputs": [
    {
     "data": {
      "text/plain": [
       "0.9998766521280698"
      ]
     },
     "execution_count": 13,
     "metadata": {},
     "output_type": "execute_result"
    }
   ],
   "source": [
    "r2_lr = r2_score(y_pred_lr, y_test)\n",
    "r2_lr"
   ]
  },
  {
   "cell_type": "markdown",
   "id": "7fa0498c-bb8d-47d5-8ebc-2ba1cbc0f834",
   "metadata": {},
   "source": [
    "### Random Forest"
   ]
  },
  {
   "cell_type": "code",
   "execution_count": 14,
   "id": "f5c57c43-e2b5-4b21-81e7-89f045221f3d",
   "metadata": {},
   "outputs": [],
   "source": [
    "rf_model = RandomForestRegressor(n_estimators=100, random_state=42)\n",
    "rf_model.fit(X_train, y_train)\n",
    "y_pred_rf = rf_model.predict(X_test)"
   ]
  },
  {
   "cell_type": "code",
   "execution_count": 15,
   "id": "02c8faec-c450-4fca-a1f8-5c6690c4a905",
   "metadata": {},
   "outputs": [
    {
     "data": {
      "text/plain": [
       "0.9998989573863181"
      ]
     },
     "execution_count": 15,
     "metadata": {},
     "output_type": "execute_result"
    }
   ],
   "source": [
    "r2_rf = r2_score(y_pred_rf, y_test)\n",
    "r2_rf"
   ]
  }
 ],
 "metadata": {
  "kernelspec": {
   "display_name": "Python 3 (ipykernel)",
   "language": "python",
   "name": "python3"
  },
  "language_info": {
   "codemirror_mode": {
    "name": "ipython",
    "version": 3
   },
   "file_extension": ".py",
   "mimetype": "text/x-python",
   "name": "python",
   "nbconvert_exporter": "python",
   "pygments_lexer": "ipython3",
   "version": "3.12.3"
  }
 },
 "nbformat": 4,
 "nbformat_minor": 5
}
